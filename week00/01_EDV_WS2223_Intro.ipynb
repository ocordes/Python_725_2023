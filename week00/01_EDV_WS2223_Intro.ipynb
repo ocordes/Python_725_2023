{
 "cells": [
  {
   "cell_type": "markdown",
   "id": "e47741a6-b5c5-43c7-bbda-401111a7c9f6",
   "metadata": {},
   "source": [
    "# EDV für Physikerinnen und Physiker - WS 2022/23 - 13.10.2022"
   ]
  },
  {
   "cell_type": "markdown",
   "id": "50834e5c-e014-4eb3-8973-386ec50d1d6a",
   "metadata": {},
   "source": [
    "---\n",
    "__Dozenten-Team:__ \n",
    "<center>\n",
    "<img src=\"figs/thiel.jpg\" style=\"height: 300px\" /><img src=\"figs/olli.jpg\" style=\"height: 300px\" />\n",
    "</center>\n",
    "\n",
    "|               |        |                           |\n",
    "| ------------- | ------ | ----                      |\n",
    "| Annika Thiel  | HISKP  | thiel@hiskp.uni-bonn.de   |\n",
    "| Oliver Cordes | Astro  | ocordes@astro.uni-bonn.de |\n",
    "\n",
    "---"
   ]
  },
  {
   "cell_type": "markdown",
   "id": "0b572477-0b5b-4484-bc77-0287041d9232",
   "metadata": {},
   "source": [
    "## Oliver Cordes"
   ]
  },
  {
   "cell_type": "markdown",
   "id": "3e17dd11-075c-4cf2-9d82-9f588edf9bca",
   "metadata": {},
   "source": [
    "<img src=\"figs/olli.jpg\" style=\"width:30%\" />"
   ]
  },
  {
   "cell_type": "markdown",
   "id": "294c9dc1-533c-4d39-81d8-294b9c44dabc",
   "metadata": {},
   "source": [
    "### Werdegang:\n",
    " * Studium der Physik 1992-1998 an der Universität Köln\n",
    " * seit 1998 wissenschaftlicher Mitarbeiter an der Universität Bonn\n",
    " * Promotion in Astronomie 2004 an der Universität Bonn\n",
    " * seit 2009 Leiter der Rechnergruppe am Argelander-Institut für Astronomie\n",
    " * seit 2018 in der Lehre tätig"
   ]
  },
  {
   "cell_type": "markdown",
   "id": "74a9e1ce-ba1a-4d3e-bec2-b64ccc95b976",
   "metadata": {
    "tags": []
   },
   "source": [
    "### Arbeitsgebiete:\n",
    " * Instrumentenentwicklung \n",
    "   * <img src=\"figs/buscaat22m.jpg\" style=\"width: 50%\" /> <img src=\"figs/main_gui.png\" style=\"width:27%\" />\n",
    " * Beobachtung von veränderlichen Sternen\n",
    "   * <img src=\"figs/variable_obs.jpg\" style=\"width:10%\"/> <img src=\"figs/lcurveall.png\" style=\"width:50%\" />\n",
    "---"
   ]
  },
  {
   "cell_type": "markdown",
   "id": "8a9487a5-8a96-4ae8-8154-5858b884f504",
   "metadata": {},
   "source": [
    "## Warum machen wir EDV?"
   ]
  },
  {
   "cell_type": "markdown",
   "id": "fd164c77-8e9a-4be9-8851-59d8f7c2aa66",
   "metadata": {},
   "source": [
    "Der Physik-Nobelpreis 2021 geht zur Hälfte an Syukuro Manabe und Klaus Hasselmann und zur anderen Hälfte an Giorgio Parisi.\n",
    "\n",
    "<img src=\"figs/manabe_hasselmann_parisi-3_2-credit-StandardJPEG.jpeg\" style=\"width: 50%\" />\n",
    "Quelle: Ill. Niklas Elmehed © Nobel Prize Outreach\n"
   ]
  },
  {
   "cell_type": "markdown",
   "id": "a6d706de-13b1-462e-9cf7-9ed4086be520",
   "metadata": {},
   "source": [
    "Manabe und Hasselmann bekommen den Preis „für das physikalische Modellieren des Klimas der Erde, die quantitative Analyse von Variationen und die zuverlässige Vorhersage der Erderwärmung” und Parisi „für die Entdeckung des Zusammenspiels von Unordnung und Fluktuationen physikalischer Systeme von der atomaren bis hin zur planetarischen Ebene”.\n",
    "\n",
    "Insbesondere das Erstellen von Klimamodellen zeigt den Wandel der Wissenschaft von einfachen theoretischen Modellen zur Simulation von Modellen mit der Hilfe von Großrechenanlagen."
   ]
  },
  {
   "cell_type": "markdown",
   "id": "6eb17641-4d06-47a0-8a84-8c6c891ef948",
   "metadata": {},
   "source": [
    " * __EDV__ _elektronische Datenverarbeitung_ , ist heute in fast allen Forschungsgebieten ein Hauptbestandteil<br>\n",
    "   \n",
    "   <img src=\"figs/european_centre_for_nuclear_research_cern_scientis_1786773934.JPG\" style=\"height:200px\" />\n",
    "   \n",
    " * Digitalisierung in allen Bereichen, Computer sind nicht mehr wegzudenken\n",
    "    * für numerische Berechnungen\n",
    "    * Recherche\n",
    "    * Anfertigen von Berichten/Arbeiten\n",
    " * bereits als Bachelor muss ein Grundwissen vorhanden sein, Praktika, Bachelorarbeit \n",
    " \n",
    " ---"
   ]
  },
  {
   "cell_type": "markdown",
   "id": "10a27fa0-a25d-49dc-93bd-c7df49292d46",
   "metadata": {},
   "source": [
    "## Was machen wir:"
   ]
  },
  {
   "cell_type": "markdown",
   "id": "0d0a3f10-f7b6-489b-a48a-a8c7be2c3839",
   "metadata": {},
   "source": [
    "Wir haben drei Schwerpunkte, die wir im Bereich des digitalen Arbeitens in der Physik behandeln:\n",
    "\n",
    " * __Linux__ als Betriebssystem, welches auf den meisten wiss. Rechnern genutzt wird\n",
    " * Wissenschaftliche Text mit $\\LaTeX$ erstellen: \n",
    "    * Das Textsetzsystem für mathematische Texte $$ \\int_0^\\frac{\\pi}{2} \\cos(x) \\textrm{ dx} = 1 $$\n",
    "    * Das Textsetzsystem für _lange_ Texte (der Fokus liegt auf dem Text und nicht auf dem Layout) z.B. Bachelor- und Masterarbeiten\n",
    " * Datenanalayse mit __Python__ als Programmiersprache in Verbindung mit der Einführung in __Statistik__ für:\n",
    "    * als Vorbereitung für Praktikumsversuche\n",
    "    * Abschlussarbeiten"
   ]
  },
  {
   "cell_type": "markdown",
   "id": "bd8cd763-a34c-433f-a80c-744825071dc8",
   "metadata": {},
   "source": [
    "<img src=\"figs/decay.png\" style=\"width: 75%\" />"
   ]
  },
  {
   "cell_type": "markdown",
   "id": "9ef39bb1-45e6-4e32-80d9-565b5e902e52",
   "metadata": {},
   "source": [
    "Für den linken Plot ist ein einfaches Zerfallsgesetz genommen worden:\n",
    "$$ N = N_0 \\textrm{e}^{-\\frac{t}{\\tau}} $$\n",
    "Für den rechten Plot wurde ein statistisches Hintergrundrauschen angenommen, was die Daten besser beschreiben kann:\n",
    "$$ N = N_0 \\textrm{e}^{-\\frac{t}{\\tau}} + b $$\n",
    "\n",
    "Sie sollen am Ende des Kurses in der Lage sein, so ein Modell an diese Daten anzufitten!\n",
    "\n",
    "----"
   ]
  },
  {
   "cell_type": "markdown",
   "id": "67884bd9-e311-4390-87da-912715573442",
   "metadata": {},
   "source": [
    "## Formalia zur Vorlesung"
   ]
  },
  {
   "cell_type": "markdown",
   "id": "21897cc7-2a1f-42de-a0e1-37c8a559bbc6",
   "metadata": {},
   "source": [
    " * Vorlesung jeden Donnerstag von 12-14 Uhr ct. im Hörsaal 1 des PI (Physikalischen Instituts) (solange wir durch die Energiekrise und Corona-Regeln Präsenz-Vorlesungen machen können)\n",
    " * Sie lernen den Stoff hauptsächlich im Selbststudium vor einem Computer und vertiefen ihn in Hausaufgaben und in dreistündigen wöchentlichen Übungen mit einem Tutor\n",
    " * Alle Materialien werden auf [eCampus](https://ecampus.uni-bonn.de) und auf [YouTube](https://youtube.com) bereitgestellt. Vorlesungsunterlagen bekommen Sie vor den Vorlesungen bereitgestellt, damit Sie aktiv mitarbeiten können\n",
    " * Betreuung\n",
    "     * Primär durch die Tutoren in den Übungen\n",
    "     * [Online-Forum auf eCampus](https://ecampus.uni-bonn.de/goto_ecampus_crs_2727295.html)\n",
    "     * Mail an die Tutoren und Dozenten\n",
    " \n",
    " \n",
    " Eine Bitte: __Stellen Sie Fragen, warten Sie auch nicht bis zum letzten Zeitpunkt!__\n",
    " \n",
    " ----"
   ]
  },
  {
   "cell_type": "markdown",
   "id": "434d7f3f-d96e-4071-86ed-f43daa823335",
   "metadata": {},
   "source": [
    "## Technischer Ablauf"
   ]
  },
  {
   "cell_type": "markdown",
   "id": "bfe37020-82f5-492b-b172-5ee3e5d8cda7",
   "metadata": {},
   "source": [
    "Für alle Arbeiten und Materialien benötigen Sie einen Webbrowser (Firefox oder Chrome) und einen PDF-Viewer.\n",
    "\n",
    " * für Linux, Python und Statistik nutzen Sie https://jupyterhub-students.astro.uni-bonn.de\n",
    " * für $\\LaTeX$ nutzen Sie https://overleaf-students.astro.uni-bonn.de\n",
    " \n",
    " \n",
    "----"
   ]
  },
  {
   "cell_type": "markdown",
   "id": "414d19a8-97f3-4029-99b7-b8f7a47bf3ac",
   "metadata": {},
   "source": [
    "## Leistungsnachweis und Kreditpunkte"
   ]
  },
  {
   "cell_type": "markdown",
   "id": "e87840ba-ecea-4a85-aa92-06080ff3760f",
   "metadata": {},
   "source": [
    "Wir machen zwei Vorlesungen in einer:\n",
    "\n",
    " * __physik131__ : für Kurswiederholer ab dem 7. Semester (4 Kreditpunkte)\n",
    " * __physik132__ : für Erstsemester und Wiederholer bis einschliesslich 5. Semester (6 Kreditpunkte)\n",
    " \n",
    "__Achtung:__ Bitte melden Sie sich für den richtigen Kurs in Basis an. Änderungen sind nachträglich nicht mehr möglich! \n",
    "\n",
    "__Sie müssen sich nicht jetzt anmelden, Sie können noch bis Dezember mit der Anmeldung warten, um keine Fehler zu machen!__\n",
    "\n",
    "\n",
    "__Nebenfächler (nicht Physik):__ Bitte melden Sie sich bei uns, damit wir prüfen können, ob Sie den Kurs anrechnen lassen können!"
   ]
  },
  {
   "cell_type": "markdown",
   "id": "984cfc5d-f5c0-4ecb-8998-b39e222d89ea",
   "metadata": {},
   "source": [
    "## Welche Leistungen müssen Sie erbringen?"
   ]
  },
  {
   "cell_type": "markdown",
   "id": "d7d92fa0-074e-41a6-b344-0454cf48d86b",
   "metadata": {},
   "source": [
    " Es gibt __keine__ Klausur am Ende des Semesters, stattdessen müssen Sie erfolgreich  __Hausaufgaben/Projekte__ anfertigen!\n",
    " \n",
    " \n",
    " Zum Bestehen des Kurses müssen Sie zwei Dinge erfolgreich abgeschlossen haben:\n",
    "   1. Sie müssen Sie von __jedem__ Hausaufgabenübungsblatt 50% der Aufgaben richtig bearbeitet haben (Zulassung zum Bericht)\n",
    "       * die Hausaufgaben werden in 3er-Gruppen angefertigt; die Gruppen werden in der erstem Übung eingeteilt\n",
    "       * Abgabe ist jeweils der Donnerstag 23:55Uhr nach Ausgabe der Hausaufgaben\n",
    "       * Sie haben 2 Fehlversuche bei den Hausaufgaben\n",
    "   2. Projekte (1x Linux, 3x Python/Datenanalyse, 1x $\\LaTeX$) \n",
    "       * jeder muss die Projekte eigenständig anfertigen (keine Gruppenabgabe!)\n",
    "       * die Projekte können in den Übungen bearbeitet werden, eine Hausaufgabe wird es dann in dieser Woche nicht gegeben\n",
    "       * die Bearbeitungszeit beträgt ~ 2 Wochen\n",
    "       * bei Fehlversuchen zu Linux und Python/Datenanalyse werden Ersatzprojekte gestellt \n",
    "\n",
    "__Kurswiederholer müssen die Hausaufgaben und Projekte nochmal bearbeiten und abgeben! Eine Abkürzung ist nicht vorgesehen!__\n",
    "\n",
    "----"
   ]
  },
  {
   "cell_type": "markdown",
   "id": "4e073ade-c138-45f6-8d3a-476d45b9959c",
   "metadata": {},
   "source": [
    "## Digitale Ressourcen der Universität"
   ]
  },
  {
   "cell_type": "markdown",
   "id": "8f1ae9a8-6857-4695-9f26-727f45074915",
   "metadata": {},
   "source": [
    "### Virtual Private Network (VPN)\n",
    "Sie benötigen zuhause einen VPN-Zugang (VPN-Client), um Ihre Webadresse der Universität Bonn zuzuordnen.\n",
    "\n",
    "Verfügbar über das [Rechenzentrum](https://www.hrz.uni-bonn.de/de/services/internet-und-netzzugang/vpn).\n",
    "\n",
    "Bewohner eines Studentenwohnheimes beachten bitte die Hinweise [auf dieser Seite](https://www.stw-bonn.de/netservice/uni)."
   ]
  },
  {
   "cell_type": "markdown",
   "id": "58d77a18-60c0-49bc-84a1-a73bffe420b6",
   "metadata": {},
   "source": [
    "### Eduroam\n",
    "Ein weiterer Client, Eduroam, erlaubt es Ihnen, sich in das Internet vieler Universitäten in Deutschland und in der Welt einzuloggen; zu empfehlen vor allem für mobile Geräte (Smartphones, Tablets, Laptops).\n",
    "\n",
    "Verfügbar über das [Rechenzentrum](https://www.hrz.uni-bonn.de/de/services/internet-und-netzzugang/wlan/beschreibung-eduroam)"
   ]
  },
  {
   "cell_type": "markdown",
   "id": "8cbe710e-d4e7-4bd9-bcfe-0404c35288cf",
   "metadata": {},
   "source": [
    "### eMedien der Universität Bonn\n",
    "Hier können Sie viele relevante Bücher online lesen oder sogar herunterladen.\n",
    "\n",
    "Verfügbar über die [Universitäts und Landesbibliothek](https://www.ulb.uni-bonn.de/de/nutzung/emedien)\n",
    "\n",
    "Für Sie relevante Bücher sind zum Beispiel:\n",
    "\n",
    "- Für unsere Veranstaltung:\n",
    "  - [Thomas Erben: Einführung in Unix/Linux für Naturwissenschaftler](https://link.springer.com/book/10.1007%2F978-3-662-50301-0)\n",
    "  - [Physik mit Python](https://link.springer.com/book/10.1007%2F978-3-662-61274-3)\n",
    "- Für Physik und Mathematik  \n",
    "  - [Gerthsen: Physik](https://link.springer.com/book/10.1007%2F978-3-642-12894-3)\n",
    "  - [Physik: für Studierende der Naturwissenschaften und Technik](https://link.springer.com/book/10.1007%2F978-3-662-58281-7)\n",
    "  - [Arbeitsbuch zu Tipler/Mosca, Physik: alle Aufgaben und Fragen mit Lösungen](https://link.springer.com/book/10.1007%2F978-3-662-58919-9)\n",
    "  - [Fischer: Mathematik für Physiker](https://link.springer.com/book/10.1007%2F978-3-662-56561-2)\n",
    "  - [Lineare Algebra](https://link.springer.com/book/10.1007%2F978-3-662-62616-0)\n",
    "  - [Analysis 1](https://link.springer.com/book/10.1007%2F978-3-642-18490-1)"
   ]
  },
  {
   "cell_type": "markdown",
   "id": "35dfb68b-3ec6-45c9-9849-b61fc081284f",
   "metadata": {},
   "source": [
    "### Sciebo\n",
    "*Sciebo* ist ein Cloud-Speicher ähnlich zu *Dropbox*. Der Speicher unterliegt dem deutschen Datenschutz und sollte für studienrelevante Daten verwendet werden.\n",
    "\n",
    "Für *Sciebo* registrieren können Sie sich [hier](https://www.hochschulcloud.nrw/WAYF/?entityID=https%3A%2F%2Fsns-sp.sciebo.de%2Fshibboleth-sp&return=https%3A%2F%2Fsns-sp.sciebo.de%2FShibboleth.sso%2FLogin%3FSAMLDS%3D1%26target%3Dss%253Amem%253A448e1c2d18528d0c0d370968f47c4b741c2a10ddd1c6da5b35cf348f04190ff2) (Ihre Einrichtung ist die *Universität Bonn*).\n",
    "\n",
    "Das System und seine Möglichkeiten werden Ihnen in der Testübung genauer vorgestellt."
   ]
  },
  {
   "cell_type": "markdown",
   "id": "30664fbd-f16d-4b0a-b6ca-277f9fdc1d73",
   "metadata": {},
   "source": [
    "### Eigener Computer\n",
    "\n",
    "Wenn Sie sich einen neuen eigenen Computer anschaffen wollen, können wir Ihnen ein paar Kleinigkeiten raten:\n",
    "\n",
    " * prüfen Sie vor dem Kauf ein Gerät immer in einem Geschäft, hauptsächlich die **Tastatur**!\n",
    " * CPU ist relativ egal, Arbeitsspeicher mind. 8GB, Festplatte SSD mit 256-512GB Speicher\n",
    " * es ist sinnvoll, bei Laptops einen externen Monitor (größer, augenfreundlicher) und Tastaur/Maus mitzubeschaffen\n",
    " * externe Festplatte als Disk-Erweiterung/Backup für kleines Geld\n",
    " * Computer sollte USB-C und/oder USB-3.1-Anschlüsse haben (zukunftssicher!)\n",
    " * Betriebssystem ist relativ egal, Sie können alles mit freier (kostenloser) Software erledigen"
   ]
  },
  {
   "cell_type": "markdown",
   "id": "d8c5d782-aba1-43c1-bdbf-e4ef10e3170b",
   "metadata": {},
   "source": [
    "----"
   ]
  },
  {
   "cell_type": "markdown",
   "id": "6a00583a-24c2-46a4-a109-53e6efa4ad07",
   "metadata": {},
   "source": [
    "## Tipps für das Semester"
   ]
  },
  {
   "cell_type": "markdown",
   "id": "2094e2cc-de42-45a2-bed6-e192a1d87384",
   "metadata": {},
   "source": [
    "Aus den vergangenen Semestern können wir Ihnen einige Tipps mit auf den Weg geben (nicht nur für EDV):\n",
    "\n",
    " * arbeiten Sie aktiv jede Woche\n",
    " * versuchen Sie nicht, die Arbeiten zu verschieben, Sie kommen schnell an den Punkt, dass der __Berg an Arbeit__ zu hoch wird!\n",
    " * Treffen Sie sich mit Ihrer Gruppe als Lerngruppe und bearbeiten Sie die Aufgaben gemeinsam\n",
    " * Einzelkämpfer haben es in der Regel schwerer\n",
    " * Arbeiten Sie jeden Tag ein wenig nicht alles in einer Marathonsitzung \n",
    " * __Wichtig__: Fragen Sie bei fachlichen Problemen früh und oft (Lerngruppe, eCampus-Forum, Tutoren, Dozenten); schieben Sie die Probleme nicht vor sich her! Am Ende ist dann meistens keine Zeit mehr vorhanden!\n",
    " \n",
    "----"
   ]
  },
  {
   "cell_type": "markdown",
   "id": "ed9421b3-6ff9-4408-b390-7cce3ce5f970",
   "metadata": {},
   "source": [
    "## Nächsten Schritte"
   ]
  },
  {
   "cell_type": "markdown",
   "id": "47f84cd8-eb4d-47e3-a863-c0c246baa29c",
   "metadata": {},
   "source": [
    " * Anmeldung für die Übungsgruppen (ab Donnerstag 15 Uhr)\n",
    " * erste reguläre Übung am Montag/Dienstag 17./18.10.2022\n",
    " * Abgabe der ersten Hausaufgabe am 20.10.2022 um 23:55Uhr\n",
    " \n",
    " ----"
   ]
  },
  {
   "cell_type": "markdown",
   "id": "ef773486-3bcf-4beb-99d5-f2b9496d16af",
   "metadata": {},
   "source": [
    "Nun folgt der 2. Teil der Vorlesung über JupyterLab und Linux!"
   ]
  }
 ],
 "metadata": {
  "kernelspec": {
   "display_name": "Python 3 (ipykernel)",
   "language": "python",
   "name": "python3"
  },
  "language_info": {
   "codemirror_mode": {
    "name": "ipython",
    "version": 3
   },
   "file_extension": ".py",
   "mimetype": "text/x-python",
   "name": "python",
   "nbconvert_exporter": "python",
   "pygments_lexer": "ipython3",
   "version": "3.10.10"
  }
 },
 "nbformat": 4,
 "nbformat_minor": 5
}
