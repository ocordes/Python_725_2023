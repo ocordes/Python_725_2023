{
 "cells": [
  {
   "cell_type": "markdown",
   "id": "be13047c-3797-486e-a2a4-6926a7bbb0cb",
   "metadata": {},
   "source": [
    "# Introduction to physics725 - Scientific Programming with Python\n",
    "\n",
    "---"
   ]
  },
  {
   "cell_type": "markdown",
   "id": "9a6e4fe4-6814-47a6-b801-35220d837d66",
   "metadata": {},
   "source": [
    "## 1. Team"
   ]
  },
  {
   "cell_type": "markdown",
   "id": "d9d2ba2e-cdc9-441c-aadc-1481391c5f68",
   "metadata": {},
   "source": [
    "\n",
    "<center>\n",
    "<img src=\"figs/Thomas_PR.jpg\" style=\"height: 300px\" /><img src=\"figs/olli.jpg\" style=\"height: 300px\" />\n",
    "</center>\n",
    "\n",
    "|               |                           |\n",
    "| ------------- | ----                      |\n",
    "| Thomas Erben  | terben@astro.uni-bonn.de  |\n",
    "| Oliver Cordes | ocordes@astro.uni-bonn.de |\n",
    "\n",
    "---"
   ]
  },
  {
   "cell_type": "markdown",
   "id": "2856529f-f9d1-4f6a-897f-36759c91f499",
   "metadata": {},
   "source": [
    "## 2. About me"
   ]
  },
  {
   "cell_type": "markdown",
   "id": "b1e63bd9-a947-45be-ae95-33dea7d6514f",
   "metadata": {},
   "source": [
    "<img src=\"figs/olli.jpg\" style=\"width:30%\" />\n",
    "\n",
    "_CV_:\n",
    " * Diplom-Physik 1992-1998 University Cologne\n",
    " * since 1998 scientific member at then University Bonn\n",
    " * PhD in Astronomy 2004 at the University Bonn\n",
    " * since 2004 Post-Doc at the Argelander-Institute for Astronomy\n",
    " * since 2009 Head of the IT-Group at the Argelander-Institute for Astronomie\n",
    " * since 2018 lecturer for bachelor and master students\n",
    "\n",
    "\n",
    "_Scientific Interests and Work_:\n",
    "\n",
    "\n",
    "---"
   ]
  },
  {
   "cell_type": "code",
   "execution_count": null,
   "id": "598e1961-9b97-4194-a8fb-f9e6f41a04e8",
   "metadata": {},
   "outputs": [],
   "source": []
  }
 ],
 "metadata": {
  "kernelspec": {
   "display_name": "Python 3 (ipykernel)",
   "language": "python",
   "name": "python3"
  },
  "language_info": {
   "codemirror_mode": {
    "name": "ipython",
    "version": 3
   },
   "file_extension": ".py",
   "mimetype": "text/x-python",
   "name": "python",
   "nbconvert_exporter": "python",
   "pygments_lexer": "ipython3",
   "version": "3.10.10"
  }
 },
 "nbformat": 4,
 "nbformat_minor": 5
}
