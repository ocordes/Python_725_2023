{
 "cells": [
  {
   "cell_type": "markdown",
   "id": "0c32a4de-e14d-4ab3-a6a0-3c8a7292dc48",
   "metadata": {},
   "source": [
    "# Goals of the course"
   ]
  },
  {
   "cell_type": "markdown",
   "id": "947103e7-d0bc-457c-a07e-3139329a4f5e",
   "metadata": {},
   "source": [
    "*The main goal is to learn how to solve a given problem with a computer using in our case Python.*"
   ]
  },
  {
   "cell_type": "markdown",
   "id": "25433cff-0ee1-42ef-ab7f-52158ea11216",
   "metadata": {},
   "source": [
    "One example is the analysis of the lightcurve of the variable star PG 1605+072 in my PhD. "
   ]
  },
  {
   "cell_type": "markdown",
   "id": "b8037c95-4dd9-491d-aed5-e9c388902687",
   "metadata": {},
   "source": [
    "<img src=\"figs/lcurveall.png\" style=\"width; 70%\"/>"
   ]
  },
  {
   "cell_type": "markdown",
   "id": "821d5e37-578e-4d49-a332-787d087c4ea5",
   "metadata": {},
   "source": [
    "With a special technique called the Lomb-Scargle algorithm ([Scargle, 1982](http://articles.adsabs.harvard.edu/pdf/1982ApJ...263..835S)). This algorithm is a variation of the discrete fourier transformation (DFT), in which a time series is decomposed into a linear combination of sinusoidal functions."
   ]
  },
  {
   "cell_type": "markdown",
   "id": "add62b27-a40b-4ff2-bc0e-7677cb2c428c",
   "metadata": {},
   "source": [
    "One result of the data analysis is the main frequency of the variation at ~2.76mHz with means a period of 370 seconds. The analysis can be done with Python and the module `astropy`."
   ]
  },
  {
   "cell_type": "markdown",
   "id": "49a85ee3-165e-42d4-b651-a8c86a90feb0",
   "metadata": {},
   "source": [
    "---"
   ]
  },
  {
   "cell_type": "markdown",
   "id": "a4886b58-a069-4603-b83d-72e3a82a4481",
   "metadata": {},
   "source": [
    "## What do you need to learn?\n",
    "1. A (general purpose) programming language, its elements (data structures) and syntax. *All* general purpose languages can solve the same class of problems.\n",
    "2. For concrete problems you need specific algorithms **(simulations, differential equations, numerical mathematics)** \n",
    "3. You need **algorithmic thinking** - how can I decompose a given problem to solve it with available elements of my programming language.\n",
    "4. You need the ability to test the **correctness** of your program and a very good feeling for potential problems!\n",
    "\n",
    "In our course, we want to address points 1, 3 and 4. After the course, you will easily pick up special skills (point 2) that you need in your research area. Our course concentrates on practical aspects and the focus is on you actually developing programs in the `Python` programming language.\n",
    "\n",
    "**A Programming language is a language that you need to actively speak to master it!**\n",
    "\n",
    "---"
   ]
  },
  {
   "cell_type": "markdown",
   "id": "82bac5dc-48fb-4fd5-a905-a257b221191d",
   "metadata": {},
   "source": [
    "*Some topics*:\n",
    " - basic python data types and structures\n",
    " - numeric calculations\n",
    " - the basics of object orientated programming (classes)\n",
    " - usages of modules (e.g. numpy, scipy, sympy)\n",
    " - writing own modules and classes\n",
    " - ..."
   ]
  },
  {
   "cell_type": "markdown",
   "id": "50b25ff3-a084-4180-b16d-69143646e431",
   "metadata": {},
   "source": [
    "*What we don't teach*:\n",
    " * KI, neuronal networks\n",
    " * web design, web apps, ...\n",
    " * link to other programming languages\n",
    " * ..."
   ]
  },
  {
   "cell_type": "code",
   "execution_count": null,
   "id": "d82a81b1-f793-4dd3-995f-b4d827ed252d",
   "metadata": {},
   "outputs": [],
   "source": []
  }
 ],
 "metadata": {
  "kernelspec": {
   "display_name": "Python 3 (ipykernel)",
   "language": "python",
   "name": "python3"
  },
  "language_info": {
   "codemirror_mode": {
    "name": "ipython",
    "version": 3
   },
   "file_extension": ".py",
   "mimetype": "text/x-python",
   "name": "python",
   "nbconvert_exporter": "python",
   "pygments_lexer": "ipython3",
   "version": "3.10.10"
  }
 },
 "nbformat": 4,
 "nbformat_minor": 5
}
