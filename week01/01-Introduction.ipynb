{
 "cells": [
  {
   "cell_type": "markdown",
   "id": "be13047c-3797-486e-a2a4-6926a7bbb0cb",
   "metadata": {},
   "source": [
    "# Introduction to physics725 - Scientific Programming with Python\n",
    "\n",
    "---"
   ]
  },
  {
   "cell_type": "markdown",
   "id": "9a6e4fe4-6814-47a6-b801-35220d837d66",
   "metadata": {},
   "source": [
    "## 1. Team"
   ]
  },
  {
   "cell_type": "markdown",
   "id": "d9d2ba2e-cdc9-441c-aadc-1481391c5f68",
   "metadata": {},
   "source": [
    "\n",
    "<center>\n",
    "<img src=\"figs/Thomas_PR.jpg\" style=\"height: 300px\" /><img src=\"figs/olli.jpg\" style=\"height: 300px\" />\n",
    "</center>\n",
    "\n",
    "|               |                           |\n",
    "| ------------- | ----                      |\n",
    "| Thomas Erben  | terben@astro.uni-bonn.de  |\n",
    "| Oliver Cordes | ocordes@astro.uni-bonn.de |\n",
    "\n",
    "---"
   ]
  },
  {
   "cell_type": "markdown",
   "id": "2856529f-f9d1-4f6a-897f-36759c91f499",
   "metadata": {},
   "source": [
    "## 2. About me"
   ]
  },
  {
   "cell_type": "markdown",
   "id": "b1e63bd9-a947-45be-ae95-33dea7d6514f",
   "metadata": {},
   "source": [
    "<img src=\"figs/olli.jpg\" style=\"width:30%\" />\n",
    "\n",
    "_CV_:\n",
    " * Diplom-Physik 1992-1998 University Cologne\n",
    " * since 1998 scientific member at then University Bonn\n",
    " * PhD in Astronomy 2004 at the University Bonn\n",
    " * since 2004 Post-Doc at the Argelander-Institute for Astronomy\n",
    " * since 2009 Head of the IT-Group at the Argelander-Institute for Astronomie\n",
    " * since 2018 lecturer for bachelor and master students\n",
    "\n",
    "\n",
    "_Scientific Interests and Work_:\n",
    "\n",
    " * Instrument/camera development (hardware/software)\n",
    "   * <img src=\"figs/buscaat22m.jpg\" style=\"width: 50%\" /> <img src=\"figs/main_gui.png\" style=\"width:27%\" />\n",
    " * Observations of variable stars\n",
    "   * <img src=\"figs/variable_obs.jpg\" style=\"width:10%\"/> <img src=\"figs/lcurveall.png\" style=\"width:50%\" />\n",
    "\n",
    "---"
   ]
  },
  {
   "cell_type": "markdown",
   "id": "6bba53f6-04bf-422a-a959-87cee7902b64",
   "metadata": {},
   "source": [
    "## 3. How we do scientific computing?"
   ]
  },
  {
   "cell_type": "markdown",
   "id": "74cdc08d-4c40-45b2-90dc-a350c8f4b7c3",
   "metadata": {},
   "source": [
    "Scientific computing for students have three faces:\n",
    "\n",
    " * usage of proprietary software (IDL, matlab, maple, mathematica) \n",
    "   * very expensive\n",
    "   * hardware limited (due to licence models)\n",
    "   * good visualization e.g. IDL, matlab\n",
    "   * good for single tasks, lack of support for parallel environments\n",
    " * open source packages (IRAF, MIDAS for astronomy, Root for physics)\n",
    "   * hard to compile\n",
    "   * not often best maintained software\n",
    "   * hard to learn\n",
    "   * bound to special environments or hardware\n",
    " * self written software packages \n",
    "   * most physics/astronomy solutions are written in C/C++/Fortran\n",
    "   * optimized for special hardware/tasks (e.g. not used in parallel environments)\n",
    "   * million of code lines, sometimes not well documented, not tested in all situations\n",
    "   * no interfaces to other analysis tools e.g. plotting\n",
    "   * support from your supervisor only, author of the software has left the science area\n",
    "   \n",
    "---"
   ]
  },
  {
   "cell_type": "markdown",
   "id": "47ceb13e-31ce-43f1-a39c-7939756c0b84",
   "metadata": {},
   "source": [
    "## 4. Challenges for scientific computing"
   ]
  },
  {
   "cell_type": "markdown",
   "id": "970bcbe8-310a-4883-9eaa-bf563832af78",
   "metadata": {},
   "source": [
    " * size of datasets, \n",
    "    e.g. CCD images in astronomy:\n",
    "      * 1996 2k x 2k = 8 MB of data \n",
    "      * 2000 4 * 4k x 4k = 128 MB of data\n",
    "      * 2011 32 * 2k x 4k = 512 MB of data\n",
    "      * 2012 70 x 2k x 4k = 1120 MB of data <br>\n",
    "      <img src=\"figs/DECam.jpg\" style=\"width: 50%\"/>\n",
    "      \n",
    " * time optimization with parallel environments\n",
    " * visualization of the datasets\n",
    " * testing, documentation, and distribution, so that others can replay all steps of the analysis\n",
    " \n",
    "---"
   ]
  },
  {
   "cell_type": "markdown",
   "id": "f970357d-a885-41c8-bf6e-0928070962c7",
   "metadata": {},
   "source": [
    "## 5. Why Python?"
   ]
  },
  {
   "cell_type": "markdown",
   "id": "980b0775-3b80-4df6-8499-6b81188b3d50",
   "metadata": {},
   "source": [
    "**Python** ...\n",
    " * ... is a high-level, *scripting language*\n",
    " * ... has a large set of very powerful libraries (modules) for scientific computing\n",
    " * ... has a readable syntax and programs\n",
    " * ... is *simple* to learn, so that everybody can use it efficiently\n",
    " * ... is completely written in an Object-oriented model; everything is an object (but you do not need to use it!)\n",
    " * ... provides parallel and batch possibilies as well as symbolic capabilties\n",
    " * ... has a modern set of built-in data types (lists, sets, dictionaries)\n",
    " * ... has interfaces to C and Fortran libraries\n",
    " * ... is used in many fields of science/academia and industry, most tools and libraries are for free\n",
    " * ... not used for numerical tasks only, you can write programs for...:\n",
    "    * databases\n",
    "    * internet access\n",
    "    * web applications\n",
    "    * OS admin programs\n",
    "    * programs for micro controller\n",
    "    * ...\n",
    " * good documentations and learning tools (see Jupyter Notebooks!)\n",
    " \n",
    " -> **Python gets things right for about 90% of our needs!** (Thomas Erben)"
   ]
  },
  {
   "cell_type": "markdown",
   "id": "856e688d-64b8-4d8c-b7ba-9598106e0550",
   "metadata": {},
   "source": [
    "Cons for Python:\n",
    " * slower that C/C++ or Fortran\n",
    " * less memory control\n",
    " * too many tools, needs some experience to find a good one\n",
    " * too many ideas and implementations of the same problem, however, for some science fields, the community is actively working together\n",
    " * program standard is developing fast, but the language is not completely standardized (e.g. Python2 vs Python3)"
   ]
  },
  {
   "cell_type": "code",
   "execution_count": null,
   "id": "a3365816-c43f-4156-8cae-e21713eeb8f0",
   "metadata": {},
   "outputs": [],
   "source": []
  }
 ],
 "metadata": {
  "kernelspec": {
   "display_name": "Python 3 (ipykernel)",
   "language": "python",
   "name": "python3"
  },
  "language_info": {
   "codemirror_mode": {
    "name": "ipython",
    "version": 3
   },
   "file_extension": ".py",
   "mimetype": "text/x-python",
   "name": "python",
   "nbconvert_exporter": "python",
   "pygments_lexer": "ipython3",
   "version": "3.10.10"
  }
 },
 "nbformat": 4,
 "nbformat_minor": 5
}
