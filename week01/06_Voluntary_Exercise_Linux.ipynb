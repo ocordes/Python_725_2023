{
 "cells": [
  {
   "cell_type": "markdown",
   "metadata": {
    "nbgrader": {
     "grade": false,
     "grade_id": "cell-515e01b25bda86a9",
     "locked": true,
     "schema_version": 3,
     "solution": false,
     "task": false
    }
   },
   "source": [
    "# Exercise Linux (voluntary)"
   ]
  },
  {
   "cell_type": "markdown",
   "metadata": {
    "nbgrader": {
     "grade": false,
     "grade_id": "cell-14ca577e70096fbf",
     "locked": true,
     "schema_version": 3,
     "solution": false,
     "task": false
    }
   },
   "source": [
    "## physics725: Scientific Programming with Python (SS 2023)\n",
    "\n",
    "Oliver Cordes & Thomas Erben\n",
    "\n",
    "---"
   ]
  },
  {
   "cell_type": "markdown",
   "metadata": {
    "nbgrader": {
     "grade": false,
     "grade_id": "cell-58e8949e2e41603c",
     "locked": true,
     "schema_version": 3,
     "solution": false,
     "task": false
    }
   },
   "source": [
    "(Voluntary) Homework is due on **Thursday, 13/04/2023, 11:59pm**\n",
    "\n",
    "Our course requires some basic knowledge on using a *Unix*-system via the command-line (terminal). In the following you find some test questions representing the level of knowledge you should have.\n",
    "\n",
    "You should be able to solve most of these questions without the need to look up commands or to query the internet. You will need to do similar tasks regularly in our course work. If you would like to fresh up some knowledge, each task is followed by the topic(s) it is testing so that you can look it up if you want to.\n",
    "\n",
    " * We **strongly** advise you to work on these Linux homework problems.\n",
    " * Please discuss the problems with your student peers in case of problems.\n",
    " * All the tasks should be answered in a simple ASCII textfile `Linux_group_XX.txt` (replace XX with your group number). This file should be submitted according to the instructions of your tutor.\n",
    " \n",
    "**Main topics of this exercise:**\n",
    " * working with the Linux terminal"
   ]
  },
  {
   "cell_type": "markdown",
   "metadata": {
    "nbgrader": {
     "grade": false,
     "grade_id": "cell-093cc42ff04e9352",
     "locked": true,
     "schema_version": 3,
     "solution": false,
     "task": false
    }
   },
   "source": [
    "# Your tasks"
   ]
  },
  {
   "cell_type": "markdown",
   "metadata": {
    "nbgrader": {
     "grade": false,
     "grade_id": "cell-5660cc428a845e25",
     "locked": true,
     "schema_version": 3,
     "solution": false,
     "task": false
    }
   },
   "source": [
    "You can do all the tasks within The `Linux`-Desktop environment of JupyterLab. If necessary, your tutor will give you an introduction."
   ]
  },
  {
   "cell_type": "markdown",
   "metadata": {
    "nbgrader": {
     "grade": false,
     "grade_id": "cell-6c44dcddb748cec4",
     "locked": true,
     "schema_version": 3,
     "solution": false,
     "task": false
    }
   },
   "source": [
    "Please answer all the tasks within a textfile *Linux_group_XX.txt* (replace XX with your group number). Write down the command you used to solve the task and additional explanations if necessary.\n",
    "\n",
    "You need to get 50% of all points to pass this special exercise. In this case your group will earn a free shot for the regular python exercises. This means that you can **fail or skip 3** (instead of 2) regular python exercises!"
   ]
  },
  {
   "cell_type": "markdown",
   "metadata": {
    "nbgrader": {
     "grade": false,
     "grade_id": "cell-297b2b1b3bbdf18b",
     "locked": true,
     "schema_version": 3,
     "solution": false,
     "task": false
    }
   },
   "source": [
    "## 1. Basic shell commands (16 points)"
   ]
  },
  {
   "cell_type": "markdown",
   "metadata": {
    "nbgrader": {
     "grade": false,
     "grade_id": "cell-d05cd8b40bedb6a0",
     "locked": true,
     "points": 14,
     "schema_version": 3,
     "solution": false,
     "task": true
    }
   },
   "source": [
    "1. Open a *Linux*-terminal. In which directory are you when you open a new terminal? With which *Unix*-command do you find out the directory you are currently in? *(Unix-shell and terminal)* [1 Point]\n",
    "\n",
    "2. How do you find out which *Linux-shell* you are working with? *(echo command and SHELL variable)* [1 Point]\n",
    "\n",
    "2. How would you launch the text-editor `emacs` in a way that you can continue to use your shell while the `emacs` is running? *( foreground and background jobs)* [1 Point]\n",
    "\n",
    "3. Launch your *favorite* text-editor (not necessarily `emacs`) and create a file ```me.txt``` containing your name. *(usage of text editor)*\n",
    "  [0 Points, as this is a preparation for the next tasks, you need not to write anything!]\n",
    "\n",
    "4. After finishing the file `me.txt` and closing your editor: Create a new subdirectory ```test1``` in your home directory *(Unix file-system commands)* [1 Point]\n",
    "\n",
    "5. Copy the file ```me.txt``` into the subdirectory as ```me_copy.txt``` *(file copy-command)* [1 Point]\n",
    "\n",
    "6. Does your copy-operation from the previous-command use a relative or an absolute path for the target-directory? *(absolute and relative paths)* [1 Point]\n",
    "\n",
    "7. Use the ```cd```-command to move between your home-directory and the subdiretory *(Unix file-system commands)* ]1 Point]\n",
    "\n",
    "6. Rename the copy ```me_copy.txt``` to ```me_renames.txt``` **while being in your home-directory** *(absolute and relative paths)* [1 Point]\n",
    "\n",
    "9. Using ```echo``` and a redirection of the standard output, add your date of birth at the end of the copy ```me_copy.txt``` *(redirection of ```STDOUT``` to a file)* [1 Point]\n",
    "\n",
    "10. Use the ```diff```-command to compare the two files ```me.txt``` and ```me_copy.txt```. If you did not yet use the ```diff```-command, then look it up on the internet. Understanding its output is very useful in many circumstances! [1 Point]\n",
    "\n",
    "11. Use the ```ls```-command (with appropriate options) to show ```me.txt``` and ```me_copy.txt``` together with their file sizes. Can you tell why the file-size difference is what it is? *(command-line options)* [1 Point]\n",
    "\n",
    "12. Except for our Online-system, your Uni-ID credentials are also valid for the computers within the Physics computer pool (CIP-pool). The name of the CIP-pool machine you can login is `cip-pool.physik.uni-bonn.de`. Use the `ssh`-command to login into that machine. On the CIP-pool machine, create a subdirectory `python_course` and logout from the machine again.\n",
    "\n",
    "13. Use the command `scp` to copy the files ```me.txt``` and ```me_copy.txt``` into the `python_course`-subdirectory on the CIP-pool machine.\n",
    "\n",
    "13. Delete the subdirectory ```test1``` and the copy of ```me.txt``` in it. Can you do this with a single command? *(Unix file-system commands)* [1 Point]\n",
    "\n",
    "14. Put two copies of ```me.txt``` (choose your own file names) into a new subdirectory ```test2```. Use the ```tar```-command to backup that directory to ```test2.tar.gz``` *(```tar```-command and archive-files)* [1 Point]\n",
    "\n",
    "15. Use ```tar``` to restore the contents of ```test2.tar.gz``` into a sub-directory ```test3``` *(```tar```-command)* [1 Point]"
   ]
  },
  {
   "cell_type": "markdown",
   "metadata": {
    "nbgrader": {
     "grade": false,
     "grade_id": "cell-c197e84f39ade8ea",
     "locked": true,
     "schema_version": 3,
     "solution": false,
     "task": false
    }
   },
   "source": [
    "## 2. More complex shell usage (21 points)"
   ]
  },
  {
   "cell_type": "markdown",
   "metadata": {
    "nbgrader": {
     "grade": false,
     "grade_id": "cell-cb616d9dd38c385b",
     "locked": true,
     "points": 21,
     "schema_version": 3,
     "solution": false,
     "task": true
    }
   },
   "source": [
    "1. Make two files, `test.txt` containing some text, and `test.dat` containing the text `test.txt`. What command line is required to use `test.dat` to print the contents of `test.txt`? *(command line substituion)* [3 Points]\n",
    "\n",
    "2. Make a file containing two columns of numbers. Use `awk` to print out the sum of each row. Use `awk` to print the sum of each column. *(awk-command)* [3 Points]\n",
    "\n",
    "3. Sort the output of the previous exercise (numeric sort) on the first and then the second columns. *(sort-command)* [3 Points]\n",
    "     \n",
    "4. Use the `find` command to find all files called `*.txt` in your home directory and all its subdirectories. *(find-command)* [3 Points]\n",
    "\n",
    "5. Count the total number of files returned in the last task. *(pipeline between find-command and wc-command)* [3 Points]\n",
    "\n",
    "6. Write a shell script to take a list of files and print the file names sorted according to their file size (ascending order). [3 Points]\n",
    "\n",
    "7.  Write down a `for`-loop to rename all text files in the current diretory. All files having the ending `.txt` should have the ending `*.txt.old` after the operation. [3 Points]"
   ]
  },
  {
   "cell_type": "code",
   "execution_count": null,
   "metadata": {},
   "outputs": [],
   "source": []
  }
 ],
 "metadata": {
  "celltoolbar": "Create Assignment",
  "kernelspec": {
   "display_name": "Python 3 (ipykernel)",
   "language": "python",
   "name": "python3"
  },
  "language_info": {
   "codemirror_mode": {
    "name": "ipython",
    "version": 3
   },
   "file_extension": ".py",
   "mimetype": "text/x-python",
   "name": "python",
   "nbconvert_exporter": "python",
   "pygments_lexer": "ipython3",
   "version": "3.10.10"
  }
 },
 "nbformat": 4,
 "nbformat_minor": 4
}
