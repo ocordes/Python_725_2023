{
 "cells": [
  {
   "cell_type": "markdown",
   "id": "9ecc7886-1cdc-4a51-8452-d943fbdf98c1",
   "metadata": {},
   "source": [
    "# Examples in Python"
   ]
  },
  {
   "cell_type": "markdown",
   "id": "d13d2a9e-87c7-4cb0-8562-50f70053241f",
   "metadata": {},
   "source": [
    "## 1. Similar to english languae"
   ]
  },
  {
   "cell_type": "markdown",
   "id": "c084ae4b-ed96-4c18-8e98-0b26875d988c",
   "metadata": {},
   "source": [
    "The syntax of Python is often similar to the english language. If you read a python program, you understand the code by reading:"
   ]
  },
  {
   "cell_type": "code",
   "execution_count": null,
   "id": "fc74ae76-3a31-4a82-b369-0dd458d4556b",
   "metadata": {
    "tags": []
   },
   "outputs": [],
   "source": [
    "print('Hello world!')  # prints Hello world!"
   ]
  },
  {
   "cell_type": "code",
   "execution_count": null,
   "id": "43f7a13f-ff55-42bb-a7dd-4c843764d83c",
   "metadata": {
    "tags": []
   },
   "outputs": [],
   "source": [
    "print('Hello' in ['Hello', 'world'])"
   ]
  },
  {
   "cell_type": "code",
   "execution_count": null,
   "id": "78d4b6d4-f71e-4fa5-bbff-a06537220dfa",
   "metadata": {
    "tags": []
   },
   "outputs": [],
   "source": [
    "if 10 > 1:\n",
    "    print('10 is larger than 1')"
   ]
  },
  {
   "cell_type": "markdown",
   "id": "b938cfa6-c5fa-4abf-89d6-14296b8aed6e",
   "metadata": {},
   "source": [
    "---"
   ]
  },
  {
   "cell_type": "markdown",
   "id": "38c619be-41b1-4138-87fc-0e5ddcec3f70",
   "metadata": {},
   "source": [
    "## 2. Similar to Pseudocode"
   ]
  },
  {
   "cell_type": "markdown",
   "id": "985a8bd0-1082-4068-8315-2a4b6f319580",
   "metadata": {
    "tags": []
   },
   "source": [
    "Python code very often looks very similar to Pseudo code. Here an example of the [Quicksort-algorithm](https://en.wikipedia.org/wiki/Quicksort)."
   ]
  },
  {
   "cell_type": "markdown",
   "id": "adb40b8b-694c-4ae3-9042-238530a8e4ad",
   "metadata": {},
   "source": [
    "### Quicksort Pseudocode from Wikipedia"
   ]
  },
  {
   "cell_type": "raw",
   "id": "c9286b68-402f-43db-a9ee-d12c050759bd",
   "metadata": {},
   "source": [
    "function quicksort(array)\n",
    "    var list less, greater\n",
    "    if \n",
    "    length(array) ≤ 1\n",
    "        return array\n",
    "    select and remove a pivot value pivot from array\n",
    "    for each x in array\n",
    "        if x ≤ pivot then append x to less\n",
    "        else append x to greater\n",
    "    return concatenate(quicksort(less), pivot, quicksort(greater))"
   ]
  },
  {
   "cell_type": "markdown",
   "id": "02259dde-7092-4676-a939-be4da2fedb73",
   "metadata": {},
   "source": [
    "### Here the Python implementation (Thomas Erben)"
   ]
  },
  {
   "cell_type": "code",
   "execution_count": null,
   "id": "675fc700-27a3-4e3f-bf51-e8071c3b69d5",
   "metadata": {
    "tags": []
   },
   "outputs": [],
   "source": [
    "import random\n",
    "\n",
    "# A python implementation of the Wikipedia quicksort algorithm\n",
    "def my_quicksort(array):\n",
    "    if len(array) <= 1:\n",
    "        return array\n",
    "    \n",
    "    pivot = array[0] # select a pivot (first element of list)\n",
    "    rest = array[1:] # the array with the pivot\n",
    "                     # removed\n",
    "    less = [x for x in rest if x <= pivot]\n",
    "    greater = [x for x in rest if x > pivot]\n",
    "    \n",
    "    return my_quicksort(less) + [pivot] + my_quicksort(greater)\n",
    "\n",
    "testarr = [random.randint(-1000, 1000) for i in range(30)]\n",
    "print(testarr)\n",
    "print(my_quicksort(testarr))"
   ]
  },
  {
   "cell_type": "markdown",
   "id": "9bb1e0bb-430a-42d3-8145-db3995982d4b",
   "metadata": {},
   "source": [
    "---"
   ]
  },
  {
   "cell_type": "markdown",
   "id": "b3782369-8969-4457-9e14-2c2ec1ed95d6",
   "metadata": {},
   "source": [
    "## 3. Data analysis/visualization"
   ]
  },
  {
   "cell_type": "markdown",
   "id": "c0e651ce-cbab-4822-9f93-0dff26515248",
   "metadata": {},
   "source": [
    "This is a typical analysis/visualization data flow in python. Typically there are these steps:\n",
    " * reading data\n",
    " * data selection (masking unwanted points)\n",
    " * calculate results\n",
    " * plot the data and results"
   ]
  },
  {
   "cell_type": "markdown",
   "id": "eca9973c-d95b-49f5-a273-edac1b87ad35",
   "metadata": {},
   "source": [
    "We start with some text data, which you can read with a unix command (unix commands can be started with `!command`):"
   ]
  },
  {
   "cell_type": "code",
   "execution_count": null,
   "id": "91e8aaa7-6d60-4bfa-9da8-84defd440420",
   "metadata": {
    "tags": []
   },
   "outputs": [],
   "source": [
    "# read the first 20 lines of data/pg1605_16.05.2001.dat\n",
    "!head -20 data/pg1605_16.05.2001.dat"
   ]
  },
  {
   "cell_type": "markdown",
   "id": "c173d9eb-8f9a-4020-bf51-5173af64d766",
   "metadata": {},
   "source": [
    "The final program in the notebook:"
   ]
  },
  {
   "cell_type": "code",
   "execution_count": null,
   "id": "1708eee2-1a40-401c-86d3-9603e1f6b5ca",
   "metadata": {
    "tags": []
   },
   "outputs": [],
   "source": [
    "%matplotlib inline\n",
    "    \n",
    "import numpy as np\n",
    "import matplotlib.pyplot as plt\n",
    "\n",
    "# load the data and split into variables\n",
    "data = np.loadtxt('data/pg1605_16.05.2001.dat')\n",
    "times = data[:,0]\n",
    "mmags = data[:,1]\n",
    "\n",
    "# mask unwanted data points\n",
    "mask = (mmags < 600) & (mmags > 0.)\n",
    "times = times[mask]\n",
    "mmags = mmags[mask]\n",
    "\n",
    "# calculate some information\n",
    "mmags_mean = mmags.mean()\n",
    "\n",
    "# setup the plot\n",
    "fig, ax = plt.subplots(figsize=[10,2])\n",
    "\n",
    "# plot the data\n",
    "ax.plot(times-times[0], mmags-mmags_mean, 'r-')\n",
    "ax.set_title('Lightcurve of a variable star')\n",
    "ax.set_ylabel(r'$R$ [mmag]')\n",
    "ax.set_xlabel(r'$t$ [s]');"
   ]
  },
  {
   "cell_type": "markdown",
   "id": "98c9638b-6dda-4b89-943f-ab468fa99ab1",
   "metadata": {},
   "source": [
    "---"
   ]
  },
  {
   "cell_type": "markdown",
   "id": "05f35219-1ad5-4a4d-96f9-7276e54a58a1",
   "metadata": {},
   "source": [
    "## 4. Load programs into Jupyter Notebook"
   ]
  },
  {
   "cell_type": "markdown",
   "id": "fbb4856f-6007-4791-8025-b28b21cee61f",
   "metadata": {},
   "source": [
    "You can interactively load python code from a local disk or from the internet:"
   ]
  },
  {
   "cell_type": "code",
   "execution_count": null,
   "id": "67640b5e-3a10-4647-b554-37bb2caaf0fb",
   "metadata": {
    "tags": []
   },
   "outputs": [],
   "source": [
    "%load code/lightcurve.py"
   ]
  },
  {
   "cell_type": "code",
   "execution_count": null,
   "id": "bba08c48-8569-4bb5-ad84-411676d2af3d",
   "metadata": {
    "tags": []
   },
   "outputs": [],
   "source": [
    "%load https://matplotlib.org/mpl_examples/lines_bars_and_markers/barh_demo.py"
   ]
  },
  {
   "cell_type": "markdown",
   "id": "c892ed57-f644-487c-aa84-502f822e370f",
   "metadata": {},
   "source": [
    "---"
   ]
  },
  {
   "cell_type": "markdown",
   "id": "3843c79c-ef5c-4b79-8985-26fbe7c65a32",
   "metadata": {},
   "source": [
    "## 5. Capabilities for symbolic mathematics (sympy-module)"
   ]
  },
  {
   "cell_type": "markdown",
   "id": "d21896f9-f392-423e-b6b9-1b7922e80b76",
   "metadata": {},
   "source": [
    "The Python `sympy`-module has symbolic mathematic capabilities similar to Maple or Mathematica."
   ]
  },
  {
   "cell_type": "code",
   "execution_count": 37,
   "id": "4675c83b-f2b9-4359-90ec-aeff9fb46644",
   "metadata": {
    "tags": []
   },
   "outputs": [],
   "source": [
    "import sympy as sp\n",
    "\n",
    "sp.init_printing()\n",
    "\n",
    "# declare symbolic variables and functions:\n",
    "x, y, z, t = sp.symbols('x y z t')\n",
    "f = sp.Function('f')"
   ]
  },
  {
   "cell_type": "markdown",
   "id": "bc854822-61e5-429f-8e41-aad66dbfe4bc",
   "metadata": {},
   "source": [
    "Nicely write down an Integral"
   ]
  },
  {
   "cell_type": "code",
   "execution_count": 38,
   "id": "02b5b854-48aa-436c-a5d9-352b397f2632",
   "metadata": {
    "tags": []
   },
   "outputs": [
    {
     "data": {
      "image/png": "[encoded data removed]",
      "text/latex": [
       "$\\displaystyle \\int x^{2} \\cos{\\left(x \\right)}\\, dx$"
      ],
      "text/plain": [
       "⌠             \n",
       "⎮  2          \n",
       "⎮ x ⋅cos(x) dx\n",
       "⌡             "
      ]
     },
     "execution_count": 38,
     "metadata": {},
     "output_type": "execute_result"
    }
   ],
   "source": [
    "sp.Integral(x**2 * sp.cos(x), x)"
   ]
  },
  {
   "cell_type": "markdown",
   "id": "e289c71e-f30e-4d29-bad8-0f5829743790",
   "metadata": {},
   "source": [
    "solve the integral symbolically"
   ]
  },
  {
   "cell_type": "code",
   "execution_count": 39,
   "id": "5e9d1bfb-ca99-4a68-b6fe-7cb868b6bd81",
   "metadata": {
    "tags": []
   },
   "outputs": [
    {
     "data": {
      "image/png": "[encoded data removed]",
      "text/latex": [
       "$\\displaystyle x^{2} \\sin{\\left(x \\right)} + 2 x \\cos{\\left(x \\right)} - 2 \\sin{\\left(x \\right)}$"
      ],
      "text/plain": [
       " 2                               \n",
       "x ⋅sin(x) + 2⋅x⋅cos(x) - 2⋅sin(x)"
      ]
     },
     "execution_count": 39,
     "metadata": {},
     "output_type": "execute_result"
    }
   ],
   "source": [
    "sp.Integral(x**2 * sp.cos(x), x).doit()"
   ]
  },
  {
   "cell_type": "markdown",
   "id": "62875c33-396d-4c5a-bd92-6ee918438b0f",
   "metadata": {},
   "source": [
    "solve a differential equation"
   ]
  },
  {
   "cell_type": "code",
   "execution_count": 40,
   "id": "5ad3e876-7c98-4ae0-a8b6-003087c8ce95",
   "metadata": {
    "tags": []
   },
   "outputs": [
    {
     "data": {
      "image/png": "[encoded data removed]",
      "text/latex": [
       "$\\displaystyle 9 f{\\left(x \\right)} + \\frac{d^{2}}{d x^{2}} f{\\left(x \\right)} = 1$"
      ],
      "text/plain": [
       "           2          \n",
       "          d           \n",
       "9⋅f(x) + ───(f(x)) = 1\n",
       "           2          \n",
       "         dx           "
      ]
     },
     "execution_count": 40,
     "metadata": {},
     "output_type": "execute_result"
    }
   ],
   "source": [
    "sp.Eq(sp.Derivative(f(x),x,x) + 9*f(x), 1)"
   ]
  },
  {
   "cell_type": "code",
   "execution_count": 41,
   "id": "3a6e2818-eab6-4703-8573-80d1bae0ff87",
   "metadata": {
    "tags": []
   },
   "outputs": [
    {
     "data": {
      "image/png": "[encoded data removed]",
      "text/latex": [
       "$\\displaystyle f{\\left(x \\right)} = C_{1} \\sin{\\left(3 x \\right)} + C_{2} \\cos{\\left(3 x \\right)} + \\frac{1}{9}$"
      ],
      "text/plain": [
       "f(x) = C₁⋅sin(3⋅x) + C₂⋅cos(3⋅x) + 1/9"
      ]
     },
     "execution_count": 41,
     "metadata": {},
     "output_type": "execute_result"
    }
   ],
   "source": [
    "sp.dsolve(sp.Eq(sp.Derivative(f(x),x,x) + 9*f(x), 1), f(x))"
   ]
  },
  {
   "cell_type": "markdown",
   "id": "f0dcf3d0-c3fc-4786-8d38-4c2f25df6164",
   "metadata": {},
   "source": [
    "calculate symbolically the inverse of a matrix"
   ]
  },
  {
   "cell_type": "code",
   "execution_count": 42,
   "id": "7dc07813-f279-4e3f-9d4a-4958be384d24",
   "metadata": {
    "tags": []
   },
   "outputs": [
    {
     "data": {
      "image/png": "[encoded data removed]",
      "text/latex": [
       "$\\displaystyle \\left[\\begin{matrix}x & y\\\\z & t\\end{matrix}\\right]$"
      ],
      "text/plain": [
       "⎡x  y⎤\n",
       "⎢    ⎥\n",
       "⎣z  t⎦"
      ]
     },
     "execution_count": 42,
     "metadata": {},
     "output_type": "execute_result"
    }
   ],
   "source": [
    "A = sp.Matrix(2, 2, [x, y, z, t])\n",
    "A"
   ]
  },
  {
   "cell_type": "code",
   "execution_count": 43,
   "id": "19a738dd-0391-4e91-a810-fca4415e45c7",
   "metadata": {
    "tags": []
   },
   "outputs": [
    {
     "data": {
      "image/png": "[encoded data removed]",
      "text/latex": [
       "$\\displaystyle \\left[\\begin{matrix}\\frac{t}{t x - y z} & - \\frac{y}{t x - y z}\\\\- \\frac{z}{t x - y z} & \\frac{x}{t x - y z}\\end{matrix}\\right]$"
      ],
      "text/plain": [
       "⎡    t         -y    ⎤\n",
       "⎢─────────  ─────────⎥\n",
       "⎢t⋅x - y⋅z  t⋅x - y⋅z⎥\n",
       "⎢                    ⎥\n",
       "⎢   -z          x    ⎥\n",
       "⎢─────────  ─────────⎥\n",
       "⎣t⋅x - y⋅z  t⋅x - y⋅z⎦"
      ]
     },
     "execution_count": 43,
     "metadata": {},
     "output_type": "execute_result"
    }
   ],
   "source": [
    "A.inv()"
   ]
  },
  {
   "cell_type": "markdown",
   "id": "eb71849f-78e0-4dd2-a38b-d266d2ce6217",
   "metadata": {},
   "source": [
    "show the first 50 digits of $\\pi$."
   ]
  },
  {
   "cell_type": "code",
   "execution_count": 44,
   "id": "2b93a2ba-0546-4c2d-a102-27ba447e1771",
   "metadata": {
    "tags": []
   },
   "outputs": [
    {
     "data": {
      "image/png": "[encoded data removed]",
      "text/latex": [
       "$\\displaystyle 3.1415926535897932384626433832795028841971693993751$"
      ],
      "text/plain": [
       "3.1415926535897932384626433832795028841971693993751"
      ]
     },
     "execution_count": 44,
     "metadata": {},
     "output_type": "execute_result"
    }
   ],
   "source": [
    "sp.pi.evalf(50)"
   ]
  },
  {
   "cell_type": "markdown",
   "id": "0b539cb8-5519-4243-8f73-7d9bf48c0a9f",
   "metadata": {},
   "source": [
    "---"
   ]
  },
  {
   "cell_type": "markdown",
   "id": "7d7a29d7-adf2-4005-8b8d-41ef7aacb06b",
   "metadata": {},
   "source": [
    "## 6. Python is not slow - use vector operations"
   ]
  },
  {
   "cell_type": "markdown",
   "id": "beafe720-e85a-4e8e-b873-36f865711ccc",
   "metadata": {},
   "source": [
    "Python is often declared as slow... in some cases you can use an effective technique to speedup your code."
   ]
  },
  {
   "cell_type": "markdown",
   "id": "6c428111-574a-4306-9b28-95c3660b9374",
   "metadata": {},
   "source": [
    "A typical example is the manipulation of an array. In C/Fortran you have to visit each element for the manipulation, which is indeed very slow in Python and should be avoided:"
   ]
  },
  {
   "cell_type": "code",
   "execution_count": 13,
   "id": "7036d7d2-f718-43c9-8def-00d7ca566271",
   "metadata": {},
   "outputs": [
    {
     "name": "stdout",
     "output_type": "stream",
     "text": [
      "[0.         0.06346652 0.12693304 0.19039955 0.25386607 0.31733259\n",
      " 0.38079911 0.44426563 0.50773215 0.57119866 0.63466518 0.6981317\n",
      " 0.76159822 0.82506474 0.88853126 0.95199777 1.01546429 1.07893081\n",
      " 1.14239733 1.20586385 1.26933037 1.33279688 1.3962634  1.45972992\n",
      " 1.52319644 1.58666296 1.65012947 1.71359599 1.77706251 1.84052903\n",
      " 1.90399555 1.96746207 2.03092858 2.0943951  2.15786162 2.22132814\n",
      " 2.28479466 2.34826118 2.41172769 2.47519421 2.53866073 2.60212725\n",
      " 2.66559377 2.72906028 2.7925268  2.85599332 2.91945984 2.98292636\n",
      " 3.04639288 3.10985939 3.17332591 3.23679243 3.30025895 3.36372547\n",
      " 3.42719199 3.4906585  3.55412502 3.61759154 3.68105806 3.74452458\n",
      " 3.8079911  3.87145761 3.93492413 3.99839065 4.06185717 4.12532369\n",
      " 4.1887902  4.25225672 4.31572324 4.37918976 4.44265628 4.5061228\n",
      " 4.56958931 4.63305583 4.69652235 4.75998887 4.82345539 4.88692191\n",
      " 4.95038842 5.01385494 5.07732146 5.14078798 5.2042545  5.26772102\n",
      " 5.33118753 5.39465405 5.45812057 5.52158709 5.58505361 5.64852012\n",
      " 5.71198664 5.77545316 5.83891968 5.9023862  5.96585272 6.02931923\n",
      " 6.09278575 6.15625227 6.21971879 6.28318531]\n"
     ]
    }
   ],
   "source": [
    "import numpy as np\n",
    "\n",
    "x = np.linspace(0.0, 2.0 * np.pi, 100)\n",
    "print(x)"
   ]
  },
  {
   "cell_type": "code",
   "execution_count": 45,
   "id": "5975a64e-fb51-48e6-9b0e-350bcd7725ff",
   "metadata": {
    "tags": []
   },
   "outputs": [
    {
     "name": "stdout",
     "output_type": "stream",
     "text": [
      "111 µs ± 555 ns per loop (mean ± std. dev. of 7 runs, 10,000 loops each)\n"
     ]
    }
   ],
   "source": [
    "%%timeit\n",
    "import numpy as np\n",
    "\n",
    "# C-like element-wise array manipulation\n",
    "x = np.linspace(0.0, 2.0 * np.pi, 100)\n",
    "\n",
    "y = np.zeros(len(x))     # define the result array\n",
    "for i in range(len(x)):\n",
    "    y[i] = np.sin(x[i])"
   ]
  },
  {
   "cell_type": "markdown",
   "id": "ff7a0177-badf-4d94-abca-b171699de486",
   "metadata": {},
   "source": [
    "The Python `numpy`-Module is offering vector operations, which are typically by a factor of 10 faster than the *visit each element* strategy. Additionally, the resulting code is shorter and fail safe."
   ]
  },
  {
   "cell_type": "code",
   "execution_count": 46,
   "id": "ffcc0b74-1204-4006-9014-125b9bb9c3d2",
   "metadata": {
    "tags": []
   },
   "outputs": [
    {
     "name": "stdout",
     "output_type": "stream",
     "text": [
      "24.3 µs ± 1.27 µs per loop (mean ± std. dev. of 7 runs, 10,000 loops each)\n"
     ]
    }
   ],
   "source": [
    "%%timeit\n",
    "import numpy as np\n",
    "\n",
    "# fast vector operations\n",
    "x = np.linspace(0.0, 2.0 * np.pi, 100)\n",
    "y = np.sin(x)"
   ]
  },
  {
   "cell_type": "markdown",
   "id": "e76a6052-f833-400a-9ecf-d1713562e0f2",
   "metadata": {},
   "source": [
    "---"
   ]
  },
  {
   "cell_type": "markdown",
   "id": "36f4078e-04e4-4a18-8ad6-722660dfd2f7",
   "metadata": {},
   "source": [
    "## 7. Documentation"
   ]
  },
  {
   "cell_type": "markdown",
   "id": "b472d395-cb5b-4f58-9d0b-2022316dfa6d",
   "metadata": {},
   "source": [
    "As you can see in this notebook, you can mix code with graphics and documentation. Also Jupyter-Nodebooks provides the possibility to embed other Web-elements:"
   ]
  },
  {
   "cell_type": "code",
   "execution_count": null,
   "id": "7716bb38-ee24-4a3b-bfa3-811e08880bf1",
   "metadata": {
    "tags": []
   },
   "outputs": [],
   "source": [
    "from IPython.display import YouTubeVideo\n",
    "\n",
    "YouTubeVideo(\"VteSyQzRSyQ\")"
   ]
  },
  {
   "cell_type": "code",
   "execution_count": null,
   "id": "100b29fc-d73a-4a4f-93ef-c6961af5e22b",
   "metadata": {},
   "outputs": [],
   "source": []
  }
 ],
 "metadata": {
  "kernelspec": {
   "display_name": "Python 3 (ipykernel)",
   "language": "python",
   "name": "python3"
  },
  "language_info": {
   "codemirror_mode": {
    "name": "ipython",
    "version": 3
   },
   "file_extension": ".py",
   "mimetype": "text/x-python",
   "name": "python",
   "nbconvert_exporter": "python",
   "pygments_lexer": "ipython3",
   "version": "3.10.10"
  }
 },
 "nbformat": 4,
 "nbformat_minor": 5
}
